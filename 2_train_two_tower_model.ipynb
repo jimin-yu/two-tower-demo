{
 "cells": [
  {
   "cell_type": "markdown",
   "metadata": {},
   "source": [
    "## Two Tower Model 학습 시키기"
   ]
  },
  {
   "cell_type": "markdown",
   "metadata": {},
   "source": [
    "### 1. Feature 테이블에서 데이터 읽어와서 train/test set으로 split 하기"
   ]
  },
  {
   "cell_type": "code",
   "execution_count": 2,
   "metadata": {},
   "outputs": [
    {
     "name": "stderr",
     "output_type": "stream",
     "text": [
      "/var/folders/fx/b8s33_bs1nx_2nnz6h7w64qm0000gn/T/ipykernel_95006/2380683196.py:13: UserWarning: pandas only supports SQLAlchemy connectable (engine/connection) or database string URI or sqlite3 DBAPI2 connection. Other DBAPI2 objects are not tested. Please consider using SQLAlchemy.\n",
      "  retrievals_df = pd.read_sql('SELECT * FROM rec_retrievals', con=db_connection)\n"
     ]
    },
    {
     "data": {
      "text/html": [
       "<div>\n",
       "<style scoped>\n",
       "    .dataframe tbody tr th:only-of-type {\n",
       "        vertical-align: middle;\n",
       "    }\n",
       "\n",
       "    .dataframe tbody tr th {\n",
       "        vertical-align: top;\n",
       "    }\n",
       "\n",
       "    .dataframe thead th {\n",
       "        text-align: right;\n",
       "    }\n",
       "</style>\n",
       "<table border=\"1\" class=\"dataframe\">\n",
       "  <thead>\n",
       "    <tr style=\"text-align: right;\">\n",
       "      <th></th>\n",
       "      <th>t_dat</th>\n",
       "      <th>customer_id</th>\n",
       "      <th>article_id</th>\n",
       "      <th>price</th>\n",
       "      <th>sales_channel_id</th>\n",
       "      <th>month_sin</th>\n",
       "      <th>month_cos</th>\n",
       "      <th>age</th>\n",
       "      <th>garment_group_name</th>\n",
       "      <th>index_group_name</th>\n",
       "    </tr>\n",
       "  </thead>\n",
       "  <tbody>\n",
       "    <tr>\n",
       "      <th>0</th>\n",
       "      <td>1537401600000000000</td>\n",
       "      <td>0095c9b47fc950788bb709201f024c5338838a27c59c02...</td>\n",
       "      <td>710390001</td>\n",
       "      <td>0.019051</td>\n",
       "      <td>1</td>\n",
       "      <td>-0.866025</td>\n",
       "      <td>-0.5</td>\n",
       "      <td>20.0</td>\n",
       "      <td>Skirts</td>\n",
       "      <td>Divided</td>\n",
       "    </tr>\n",
       "    <tr>\n",
       "      <th>1</th>\n",
       "      <td>1537401600000000000</td>\n",
       "      <td>0095c9b47fc950788bb709201f024c5338838a27c59c02...</td>\n",
       "      <td>633130019</td>\n",
       "      <td>0.016932</td>\n",
       "      <td>1</td>\n",
       "      <td>-0.866025</td>\n",
       "      <td>-0.5</td>\n",
       "      <td>20.0</td>\n",
       "      <td>Jersey Fancy</td>\n",
       "      <td>Divided</td>\n",
       "    </tr>\n",
       "    <tr>\n",
       "      <th>2</th>\n",
       "      <td>1537401600000000000</td>\n",
       "      <td>0095c9b47fc950788bb709201f024c5338838a27c59c02...</td>\n",
       "      <td>671057002</td>\n",
       "      <td>0.008458</td>\n",
       "      <td>1</td>\n",
       "      <td>-0.866025</td>\n",
       "      <td>-0.5</td>\n",
       "      <td>20.0</td>\n",
       "      <td>Jersey Fancy</td>\n",
       "      <td>Divided</td>\n",
       "    </tr>\n",
       "  </tbody>\n",
       "</table>\n",
       "</div>"
      ],
      "text/plain": [
       "                 t_dat                                        customer_id  \\\n",
       "0  1537401600000000000  0095c9b47fc950788bb709201f024c5338838a27c59c02...   \n",
       "1  1537401600000000000  0095c9b47fc950788bb709201f024c5338838a27c59c02...   \n",
       "2  1537401600000000000  0095c9b47fc950788bb709201f024c5338838a27c59c02...   \n",
       "\n",
       "  article_id     price  sales_channel_id  month_sin  month_cos   age  \\\n",
       "0  710390001  0.019051                 1  -0.866025       -0.5  20.0   \n",
       "1  633130019  0.016932                 1  -0.866025       -0.5  20.0   \n",
       "2  671057002  0.008458                 1  -0.866025       -0.5  20.0   \n",
       "\n",
       "  garment_group_name index_group_name  \n",
       "0             Skirts          Divided  \n",
       "1       Jersey Fancy          Divided  \n",
       "2       Jersey Fancy          Divided  "
      ]
     },
     "execution_count": 2,
     "metadata": {},
     "output_type": "execute_result"
    }
   ],
   "source": [
    "import mysql.connector as sql\n",
    "\n",
    "import pandas as pd\n",
    "\n",
    "host = '127.0.0.1'\n",
    "port = 3306\n",
    "username = 'root'\n",
    "password = '1111'\n",
    "database_name = 'dealicious'\n",
    "\n",
    "db_connection = sql.connect(host=host, database=database_name, user=username, password=password)\n",
    "\n",
    "retrievals_df = pd.read_sql('SELECT * FROM rec_retrievals', con=db_connection)\n",
    "\n",
    "retrievals_df.head(3)"
   ]
  },
  {
   "cell_type": "code",
   "execution_count": 3,
   "metadata": {},
   "outputs": [],
   "source": [
    "from sklearn.model_selection import train_test_split\n",
    "\n",
    "train_df, test_df = train_test_split(retrievals_df, test_size=0.2, random_state=42)"
   ]
  },
  {
   "cell_type": "code",
   "execution_count": 4,
   "metadata": {},
   "outputs": [],
   "source": [
    "train_df[\"article_id\"] = train_df[\"article_id\"].astype(str)  # to be removed\n",
    "test_df[\"article_id\"] = test_df[\"article_id\"].astype(str)  # to be removed"
   ]
  },
  {
   "cell_type": "markdown",
   "metadata": {},
   "source": [
    "pandas dataframe 을 tensorflow dataset 으로 변환하기\n",
    "\n",
    "query embedding에 사용할 feature\n",
    "- `customer_id`: ID of the customer.\n",
    "- `age`: age of the customer at the time of purchase.\n",
    "- `month_sin`, `month_cos`: time of year the purchase was made.\n",
    "\n",
    "candidate embedding에 사용할 feature\n",
    "- `article_id`: ID of the item.\n",
    "- `garment_group_name`: type of garment.\n",
    "- `index_group_name`: menswear/ladieswear etc."
   ]
  },
  {
   "cell_type": "code",
   "execution_count": 5,
   "metadata": {},
   "outputs": [
    {
     "name": "stderr",
     "output_type": "stream",
     "text": [
      "2024-05-07 16:14:44.406923: I tensorflow/core/platform/cpu_feature_guard.cc:182] This TensorFlow binary is optimized to use available CPU instructions in performance-critical operations.\n",
      "To enable the following instructions: SSE4.1 SSE4.2 AVX AVX2 FMA, in other operations, rebuild TensorFlow with the appropriate compiler flags.\n"
     ]
    }
   ],
   "source": [
    "import tensorflow as tf\n",
    "\n",
    "query_features = [\"customer_id\", \"age\", \"month_sin\", \"month_cos\"]\n",
    "candidate_features = [\"article_id\", \"garment_group_name\", \"index_group_name\"]\n",
    "\n",
    "def df_to_ds(df):\n",
    "    return tf.data.Dataset.from_tensor_slices({col : df[col] for col in df})\n",
    "\n",
    "BATCH_SIZE = 448\n",
    "train_ds = df_to_ds(train_df).batch(BATCH_SIZE).cache().shuffle(BATCH_SIZE*10)\n",
    "val_ds = df_to_ds(test_df).batch(BATCH_SIZE).cache()"
   ]
  },
  {
   "cell_type": "code",
   "execution_count": 6,
   "metadata": {},
   "outputs": [
    {
     "name": "stdout",
     "output_type": "stream",
     "text": [
      "Number of transactions: 14,784\n",
      "Number of users: 3,845\n",
      "Number of items: 6,487\n",
      "['Jersey Fancy', 'Jersey Basic', 'Accessories', 'Knitwear', 'Trousers Denim', 'Socks and Tights', 'Special Offers', 'Under-, Nightwear', 'Blouses', 'Skirts', 'Trousers', 'Unknown', 'Swimwear', 'Shoes', 'Outdoor', 'Dresses/Skirts girls', 'Dressed', 'Dresses Ladies', 'Woven/Jersey/Knitted mix Baby', 'Shirts', 'Shorts']\n"
     ]
    }
   ],
   "source": [
    "user_id_list = train_df[\"customer_id\"].unique().tolist()\n",
    "item_id_list = train_df[\"article_id\"].unique().tolist()\n",
    "\n",
    "garment_group_list = train_df[\"garment_group_name\"].unique().tolist()\n",
    "index_group_list = train_df[\"index_group_name\"].unique().tolist()\n",
    "\n",
    "print(f\"Number of transactions: {len(train_df):,}\")\n",
    "print(f\"Number of users: {len(user_id_list):,}\")\n",
    "print(f\"Number of items: {len(item_id_list):,}\")\n",
    "print(garment_group_list)"
   ]
  },
  {
   "cell_type": "markdown",
   "metadata": {},
   "source": [
    "### 2. Two Tower Model 학습\n",
    "\n",
    "다음의 두 모델을 two tower 학습 기법을 통해 학습 시킴.\n",
    "\n",
    "- `query model` : user, transaction feature를 나타내는 query embedding 생성하는 모델\n",
    "- `candidate model` : item feature를 나타내는 candidate embedding을 생성하는 모델"
   ]
  },
  {
   "cell_type": "code",
   "execution_count": 7,
   "metadata": {},
   "outputs": [],
   "source": [
    "EMB_DIM = 16"
   ]
  },
  {
   "cell_type": "code",
   "execution_count": 8,
   "metadata": {},
   "outputs": [
    {
     "name": "stderr",
     "output_type": "stream",
     "text": [
      "2024-05-07 16:15:06.365070: I tensorflow/core/common_runtime/executor.cc:1197] [/device:CPU:0] (DEBUG INFO) Executor start aborting (this does not indicate an error and you can ignore this message): INVALID_ARGUMENT: You must feed a value for placeholder tensor 'Placeholder/_4' with dtype string and shape [14784]\n",
      "\t [[{{node Placeholder/_4}}]]\n",
      "2024-05-07 16:15:06.366394: I tensorflow/core/common_runtime/executor.cc:1197] [/device:CPU:0] (DEBUG INFO) Executor start aborting (this does not indicate an error and you can ignore this message): INVALID_ARGUMENT: You must feed a value for placeholder tensor 'Placeholder/_0' with dtype double and shape [14784]\n",
      "\t [[{{node Placeholder/_0}}]]\n",
      "2024-05-07 16:15:06.724193: I tensorflow/core/common_runtime/executor.cc:1197] [/device:CPU:0] (DEBUG INFO) Executor start aborting (this does not indicate an error and you can ignore this message): INVALID_ARGUMENT: You must feed a value for placeholder tensor 'Placeholder/_3' with dtype double and shape [14784]\n",
      "\t [[{{node Placeholder/_3}}]]\n"
     ]
    },
    {
     "data": {
      "text/plain": [
       "<tf.Tensor: shape=(1, 16), dtype=float32, numpy=\n",
       "array([[ 0.28267318,  0.17895192, -0.05836855, -0.03838781,  0.23421174,\n",
       "         0.6082657 ,  0.23707908, -0.14201935,  0.4328758 , -0.28465068,\n",
       "         0.3968409 ,  0.01230739,  0.39183363,  0.29431206, -0.04555143,\n",
       "         0.33463132]], dtype=float32)>"
      ]
     },
     "execution_count": 8,
     "metadata": {},
     "output_type": "execute_result"
    }
   ],
   "source": [
    "from models.query_tower import QueryTower\n",
    "\n",
    "query_model = QueryTower(user_id_list=user_id_list, emb_dim=EMB_DIM)\n",
    "query_model.normalized_age.adapt(train_ds.map(lambda x : x[\"age\"]))\n",
    "\n",
    "# Initialize model with inputs.\n",
    "query_df = train_df[query_features]\n",
    "query_ds = df_to_ds(query_df).batch(1)\n",
    "query_model(next(iter(query_ds)))\n"
   ]
  },
  {
   "cell_type": "code",
   "execution_count": 9,
   "metadata": {},
   "outputs": [
    {
     "name": "stderr",
     "output_type": "stream",
     "text": [
      "/var/folders/fx/b8s33_bs1nx_2nnz6h7w64qm0000gn/T/ipykernel_95006/2937662747.py:7: SettingWithCopyWarning: \n",
      "A value is trying to be set on a copy of a slice from a DataFrame\n",
      "\n",
      "See the caveats in the documentation: https://pandas.pydata.org/pandas-docs/stable/user_guide/indexing.html#returning-a-view-versus-a-copy\n",
      "  item_df.drop_duplicates(subset=\"article_id\", inplace=True)\n"
     ]
    }
   ],
   "source": [
    "from models.item_tower import ItemTower\n",
    "\n",
    "\n",
    "item_model = ItemTower(item_id_list=item_id_list, garment_group_list=garment_group_list, index_group_list=index_group_list, emb_dim=EMB_DIM)\n",
    "\n",
    "item_df = train_df[candidate_features]\n",
    "item_df.drop_duplicates(subset=\"article_id\", inplace=True)\n",
    "item_ds = df_to_ds(item_df)"
   ]
  },
  {
   "cell_type": "code",
   "execution_count": 10,
   "metadata": {},
   "outputs": [
    {
     "name": "stderr",
     "output_type": "stream",
     "text": [
      "/Users/jimin/study/two-tower/.venv/lib/python3.9/site-packages/tensorflow_addons/utils/tfa_eol_msg.py:23: UserWarning: \n",
      "\n",
      "TensorFlow Addons (TFA) has ended development and introduction of new features.\n",
      "TFA has entered a minimal maintenance and release mode until a planned end of life in May 2024.\n",
      "Please modify downstream libraries to take dependencies from other repositories in our TensorFlow community (e.g. Keras, Keras-CV, and Keras-NLP). \n",
      "\n",
      "For more information see: https://github.com/tensorflow/addons/issues/2807 \n",
      "\n",
      "  warnings.warn(\n"
     ]
    }
   ],
   "source": [
    "import tensorflow_addons as tfa\n",
    "from models.two_tower_model import TwoTowerModel\n",
    "\n",
    "model = TwoTowerModel(query_model=query_model, item_model=item_model, item_ds=item_ds)\n",
    "optimizer = tfa.optimizers.AdamW(0.001, learning_rate=0.01)\n",
    "model.compile(optimizer=optimizer)"
   ]
  },
  {
   "cell_type": "code",
   "execution_count": 11,
   "metadata": {},
   "outputs": [
    {
     "name": "stdout",
     "output_type": "stream",
     "text": [
      "Epoch 1/5\n"
     ]
    },
    {
     "name": "stderr",
     "output_type": "stream",
     "text": [
      "2024-05-07 16:15:26.639151: I tensorflow/core/common_runtime/executor.cc:1197] [/device:CPU:0] (DEBUG INFO) Executor start aborting (this does not indicate an error and you can ignore this message): INVALID_ARGUMENT: You must feed a value for placeholder tensor 'Placeholder/_5' with dtype double and shape [14784]\n",
      "\t [[{{node Placeholder/_5}}]]\n",
      "2024-05-07 16:15:26.639775: I tensorflow/core/common_runtime/executor.cc:1197] [/device:CPU:0] (DEBUG INFO) Executor start aborting (this does not indicate an error and you can ignore this message): INVALID_ARGUMENT: You must feed a value for placeholder tensor 'Placeholder/_6' with dtype double and shape [14784]\n",
      "\t [[{{node Placeholder/_6}}]]\n"
     ]
    },
    {
     "name": "stdout",
     "output_type": "stream",
     "text": [
      "32/33 [============================>.] - ETA: 0s - loss: 2687.4696 - regularization_loss: 0.0000e+00 - total_loss: 2687.4696"
     ]
    },
    {
     "name": "stderr",
     "output_type": "stream",
     "text": [
      "2024-05-07 16:15:28.706437: I tensorflow/core/common_runtime/executor.cc:1197] [/device:CPU:0] (DEBUG INFO) Executor start aborting (this does not indicate an error and you can ignore this message): INVALID_ARGUMENT: You must feed a value for placeholder tensor 'Placeholder/_7' with dtype double and shape [3697]\n",
      "\t [[{{node Placeholder/_7}}]]\n"
     ]
    },
    {
     "name": "stdout",
     "output_type": "stream",
     "text": [
      "33/33 [==============================] - 2s 26ms/step - loss: 2683.9153 - regularization_loss: 0.0000e+00 - total_loss: 2683.9153 - val_factorized_top_k/top_1_categorical_accuracy: 0.0000e+00 - val_factorized_top_k/top_5_categorical_accuracy: 0.0000e+00 - val_factorized_top_k/top_10_categorical_accuracy: 0.0000e+00 - val_factorized_top_k/top_50_categorical_accuracy: 0.0000e+00 - val_factorized_top_k/top_100_categorical_accuracy: 0.0000e+00 - val_loss: 503.1334 - val_regularization_loss: 0.0000e+00 - val_total_loss: 503.1334\n",
      "Epoch 2/5\n",
      "33/33 [==============================] - 1s 17ms/step - loss: 2420.5836 - regularization_loss: 0.0000e+00 - total_loss: 2420.5836 - val_factorized_top_k/top_1_categorical_accuracy: 0.0000e+00 - val_factorized_top_k/top_5_categorical_accuracy: 0.0000e+00 - val_factorized_top_k/top_10_categorical_accuracy: 0.0000e+00 - val_factorized_top_k/top_50_categorical_accuracy: 0.0000e+00 - val_factorized_top_k/top_100_categorical_accuracy: 0.0000e+00 - val_loss: 492.8231 - val_regularization_loss: 0.0000e+00 - val_total_loss: 492.8231\n",
      "Epoch 3/5\n",
      "33/33 [==============================] - 1s 20ms/step - loss: 2129.7454 - regularization_loss: 0.0000e+00 - total_loss: 2129.7454 - val_factorized_top_k/top_1_categorical_accuracy: 0.0000e+00 - val_factorized_top_k/top_5_categorical_accuracy: 0.0000e+00 - val_factorized_top_k/top_10_categorical_accuracy: 0.0000e+00 - val_factorized_top_k/top_50_categorical_accuracy: 0.0000e+00 - val_factorized_top_k/top_100_categorical_accuracy: 0.0000e+00 - val_loss: 522.2366 - val_regularization_loss: 0.0000e+00 - val_total_loss: 522.2366\n",
      "Epoch 4/5\n",
      "33/33 [==============================] - 1s 19ms/step - loss: 1856.5808 - regularization_loss: 0.0000e+00 - total_loss: 1856.5808 - val_factorized_top_k/top_1_categorical_accuracy: 0.0000e+00 - val_factorized_top_k/top_5_categorical_accuracy: 0.0000e+00 - val_factorized_top_k/top_10_categorical_accuracy: 0.0000e+00 - val_factorized_top_k/top_50_categorical_accuracy: 0.0000e+00 - val_factorized_top_k/top_100_categorical_accuracy: 0.0000e+00 - val_loss: 573.5616 - val_regularization_loss: 0.0000e+00 - val_total_loss: 573.5616\n",
      "Epoch 5/5\n",
      "33/33 [==============================] - 1s 18ms/step - loss: 1595.6775 - regularization_loss: 0.0000e+00 - total_loss: 1595.6775 - val_factorized_top_k/top_1_categorical_accuracy: 0.0000e+00 - val_factorized_top_k/top_5_categorical_accuracy: 0.0000e+00 - val_factorized_top_k/top_10_categorical_accuracy: 0.0000e+00 - val_factorized_top_k/top_50_categorical_accuracy: 0.0000e+00 - val_factorized_top_k/top_100_categorical_accuracy: 0.0000e+00 - val_loss: 658.3485 - val_regularization_loss: 0.0000e+00 - val_total_loss: 658.3485\n"
     ]
    },
    {
     "data": {
      "text/plain": [
       "<keras.callbacks.History at 0x15c668ee0>"
      ]
     },
     "execution_count": 11,
     "metadata": {},
     "output_type": "execute_result"
    }
   ],
   "source": [
    "model.fit(train_ds, validation_data=val_ds, epochs=5)"
   ]
  },
  {
   "cell_type": "markdown",
   "metadata": {},
   "source": [
    "### 3. 모델 저장하기"
   ]
  },
  {
   "cell_type": "code",
   "execution_count": 12,
   "metadata": {},
   "outputs": [],
   "source": [
    "class QueryModelModule(tf.Module):\n",
    "    def __init__(self, query_model):\n",
    "        self.query_model = query_model\n",
    "\n",
    "    @tf.function()\n",
    "    def compute_emb(self, instances):\n",
    "        query_emb = self.query_model(instances)\n",
    "        return {\"customer_id\": instances[\"customer_id\"],\n",
    "                \"month_sin\": instances[\"month_sin\"],\n",
    "                \"month_cos\": instances[\"month_cos\"],\n",
    "                \"query_emb\": query_emb}\n",
    "\n",
    "# wrap query_model:   query_model -> query_model_module\n",
    "query_model = QueryModelModule(model.query_model)"
   ]
  },
  {
   "cell_type": "code",
   "execution_count": 13,
   "metadata": {},
   "outputs": [
    {
     "name": "stdout",
     "output_type": "stream",
     "text": [
      "INFO:tensorflow:Assets written to: query_model/assets\n"
     ]
    }
   ],
   "source": [
    "# 로컬에 query_model 저장\n",
    "instances_spec={\n",
    "    'customer_id': tf.TensorSpec(shape=(None,), dtype=tf.string, name='customer_id'),\n",
    "    'month_sin': tf.TensorSpec(shape=(None,), dtype=tf.float64, name='month_sin'),\n",
    "    'month_cos': tf.TensorSpec(shape=(None,), dtype=tf.float64, name='month_cos'),\n",
    "    'age': tf.TensorSpec(shape=(None,), dtype=tf.float64, name='age')\n",
    "}\n",
    "signatures = query_model.compute_emb.get_concrete_function(instances_spec)\n",
    "\n",
    "tf.saved_model.save(query_model, \"query_model\", signatures=signatures)"
   ]
  },
  {
   "cell_type": "code",
   "execution_count": null,
   "metadata": {},
   "outputs": [],
   "source": [
    "# 로컬에 candidate_model 저장\n",
    "# tf.saved_model.save(model.item_model, \"candidate_model\")"
   ]
  },
  {
   "cell_type": "code",
   "execution_count": 13,
   "metadata": {},
   "outputs": [],
   "source": [
    "import boto3\n",
    "\n",
    "AWS_PROFILE = 'default'\n",
    "BUCKET_NAME = 'jimin-model'\n",
    "session = boto3.Session(profile_name=AWS_PROFILE)\n",
    "s3_client = session.client('s3')"
   ]
  },
  {
   "cell_type": "code",
   "execution_count": 14,
   "metadata": {},
   "outputs": [
    {
     "name": "stdout",
     "output_type": "stream",
     "text": [
      "INFO:tensorflow:Assets written to: temp/query/1/assets\n",
      "Uploaded temp/query/1.tar.gz to s3://jimin-model/query/1.tar.gz\n",
      "INFO:tensorflow:Assets written to: temp/candidate_model/1/assets\n",
      "Uploaded temp/candidate_model/1.tar.gz to s3://jimin-model/candidate_model/1.tar.gz\n"
     ]
    }
   ],
   "source": [
    "from utils.save_model import SaveModel\n",
    "\n",
    "instances_spec={\n",
    "    'customer_id': tf.TensorSpec(shape=(None,), dtype=tf.string, name='customer_id'),\n",
    "    'month_sin': tf.TensorSpec(shape=(None,), dtype=tf.float64, name='month_sin'),\n",
    "    'month_cos': tf.TensorSpec(shape=(None,), dtype=tf.float64, name='month_cos'),\n",
    "    'age': tf.TensorSpec(shape=(None,), dtype=tf.float64, name='age')\n",
    "}\n",
    "signatures = query_model.compute_emb.get_concrete_function(instances_spec)\n",
    "\n",
    "save_model = SaveModel(s3_client, BUCKET_NAME)\n",
    "save_model.call(query_model, \"query\", signatures=signatures)\n",
    "save_model.call(model.item_model, \"candidate_model\")"
   ]
  },
  {
   "cell_type": "markdown",
   "metadata": {},
   "source": [
    "### 4. 모델 로드 & 테스트 쿼리"
   ]
  },
  {
   "cell_type": "code",
   "execution_count": 17,
   "metadata": {},
   "outputs": [],
   "source": [
    "from utils.load_model import LoadModel\n",
    "import tensorflow as tf\n",
    "\n",
    "load_model = LoadModel(s3_client, BUCKET_NAME)\n",
    "loaded_model = load_model.call(\"query/1\")"
   ]
  },
  {
   "cell_type": "code",
   "execution_count": 18,
   "metadata": {},
   "outputs": [
    {
     "name": "stdout",
     "output_type": "stream",
     "text": [
      "{'customer_id': <tf.Tensor: shape=(2,), dtype=string, numpy=array([b'customer1', b'customer2'], dtype=object)>, 'month_sin': <tf.Tensor: shape=(2,), dtype=float64, numpy=array([0.1, 0.2])>, 'month_cos': <tf.Tensor: shape=(2,), dtype=float64, numpy=array([0.2, 0.3])>, 'age': <tf.Tensor: shape=(2,), dtype=float64, numpy=array([30., 40.])>}\n"
     ]
    }
   ],
   "source": [
    "\n",
    "# loaded_model = tf.saved_model.load(\"temp/query_model\")\n",
    "\n",
    "# 예측 함수 추출\n",
    "infer = loaded_model.signatures[\"serving_default\"]\n",
    "\n",
    "# 입력 스펙 확인\n",
    "# print(infer.structured_input_signature)\n",
    "\n",
    "# 샘플 입력 데이터 생성 (double 타입으로)\n",
    "sample_input = {\n",
    "    'customer_id': tf.constant(['customer1', 'customer2']),\n",
    "    'month_sin': tf.constant([0.1, 0.2], dtype=tf.float64),\n",
    "    'month_cos': tf.constant([0.2, 0.3], dtype=tf.float64),\n",
    "    'age': tf.constant([30.0, 40.0], dtype=tf.float64)\n",
    "}\n",
    "\n",
    "# 예측 수행\n",
    "predictions = infer(**sample_input)\n",
    "\n",
    "# 예측 결과 출력\n",
    "# print(predictions)\n",
    "print(sample_input)"
   ]
  }
 ],
 "metadata": {
  "kernelspec": {
   "display_name": ".venv",
   "language": "python",
   "name": "python3"
  },
  "language_info": {
   "codemirror_mode": {
    "name": "ipython",
    "version": 3
   },
   "file_extension": ".py",
   "mimetype": "text/x-python",
   "name": "python",
   "nbconvert_exporter": "python",
   "pygments_lexer": "ipython3",
   "version": "3.9.19"
  }
 },
 "nbformat": 4,
 "nbformat_minor": 2
}
