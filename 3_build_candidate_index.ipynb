{
 "cells": [
  {
   "cell_type": "markdown",
   "metadata": {},
   "source": [
    "## Candidate Embedding 구하고 VectorDB에 인덱싱하기"
   ]
  },
  {
   "cell_type": "markdown",
   "metadata": {},
   "source": [
    "### 1. candidate_model 가지고 item feature 를 candidate embedding으로 변환하기"
   ]
  },
  {
   "cell_type": "markdown",
   "metadata": {},
   "source": [
    "#### 1-1. candidate_model 로드"
   ]
  },
  {
   "cell_type": "code",
   "execution_count": 1,
   "metadata": {},
   "outputs": [],
   "source": [
    "import boto3\n",
    "\n",
    "AWS_PROFILE = 'default'\n",
    "BUCKET_NAME = 'jimin-model'\n",
    "session = boto3.Session(profile_name=AWS_PROFILE)\n",
    "s3_client = session.client('s3')"
   ]
  },
  {
   "cell_type": "code",
   "execution_count": 2,
   "metadata": {},
   "outputs": [
    {
     "name": "stderr",
     "output_type": "stream",
     "text": [
      "2024-05-03 12:09:55.914972: I tensorflow/core/platform/cpu_feature_guard.cc:182] This TensorFlow binary is optimized to use available CPU instructions in performance-critical operations.\n",
      "To enable the following instructions: SSE4.1 SSE4.2 AVX AVX2 FMA, in other operations, rebuild TensorFlow with the appropriate compiler flags.\n"
     ]
    }
   ],
   "source": [
    "from utils.load_model import LoadModel\n",
    "import tensorflow as tf\n",
    "\n",
    "load_model = LoadModel(s3_client, BUCKET_NAME)\n",
    "candidate_model = load_model.call(\"candidate_model\")"
   ]
  },
  {
   "cell_type": "markdown",
   "metadata": {},
   "source": [
    "#### 1-2. feature 테이블에서 가져온 데이터 가공해서 item dateset 준비"
   ]
  },
  {
   "cell_type": "code",
   "execution_count": 3,
   "metadata": {},
   "outputs": [
    {
     "name": "stderr",
     "output_type": "stream",
     "text": [
      "/var/folders/fx/b8s33_bs1nx_2nnz6h7w64qm0000gn/T/ipykernel_61920/1062528239.py:13: UserWarning: pandas only supports SQLAlchemy connectable (engine/connection) or database string URI or sqlite3 DBAPI2 connection. Other DBAPI2 objects are not tested. Please consider using SQLAlchemy.\n",
      "  retrievals_df = pd.read_sql('SELECT * FROM rec_retrievals', con=db_connection)\n"
     ]
    },
    {
     "data": {
      "text/html": [
       "<div>\n",
       "<style scoped>\n",
       "    .dataframe tbody tr th:only-of-type {\n",
       "        vertical-align: middle;\n",
       "    }\n",
       "\n",
       "    .dataframe tbody tr th {\n",
       "        vertical-align: top;\n",
       "    }\n",
       "\n",
       "    .dataframe thead th {\n",
       "        text-align: right;\n",
       "    }\n",
       "</style>\n",
       "<table border=\"1\" class=\"dataframe\">\n",
       "  <thead>\n",
       "    <tr style=\"text-align: right;\">\n",
       "      <th></th>\n",
       "      <th>t_dat</th>\n",
       "      <th>customer_id</th>\n",
       "      <th>article_id</th>\n",
       "      <th>price</th>\n",
       "      <th>sales_channel_id</th>\n",
       "      <th>month_sin</th>\n",
       "      <th>month_cos</th>\n",
       "      <th>age</th>\n",
       "      <th>garment_group_name</th>\n",
       "      <th>index_group_name</th>\n",
       "    </tr>\n",
       "  </thead>\n",
       "  <tbody>\n",
       "    <tr>\n",
       "      <th>0</th>\n",
       "      <td>1537401600000000000</td>\n",
       "      <td>0095c9b47fc950788bb709201f024c5338838a27c59c02...</td>\n",
       "      <td>710390001</td>\n",
       "      <td>0.019051</td>\n",
       "      <td>1</td>\n",
       "      <td>-0.866025</td>\n",
       "      <td>-0.5</td>\n",
       "      <td>20.0</td>\n",
       "      <td>Skirts</td>\n",
       "      <td>Divided</td>\n",
       "    </tr>\n",
       "    <tr>\n",
       "      <th>1</th>\n",
       "      <td>1537401600000000000</td>\n",
       "      <td>0095c9b47fc950788bb709201f024c5338838a27c59c02...</td>\n",
       "      <td>633130019</td>\n",
       "      <td>0.016932</td>\n",
       "      <td>1</td>\n",
       "      <td>-0.866025</td>\n",
       "      <td>-0.5</td>\n",
       "      <td>20.0</td>\n",
       "      <td>Jersey Fancy</td>\n",
       "      <td>Divided</td>\n",
       "    </tr>\n",
       "    <tr>\n",
       "      <th>2</th>\n",
       "      <td>1537401600000000000</td>\n",
       "      <td>0095c9b47fc950788bb709201f024c5338838a27c59c02...</td>\n",
       "      <td>671057002</td>\n",
       "      <td>0.008458</td>\n",
       "      <td>1</td>\n",
       "      <td>-0.866025</td>\n",
       "      <td>-0.5</td>\n",
       "      <td>20.0</td>\n",
       "      <td>Jersey Fancy</td>\n",
       "      <td>Divided</td>\n",
       "    </tr>\n",
       "  </tbody>\n",
       "</table>\n",
       "</div>"
      ],
      "text/plain": [
       "                 t_dat                                        customer_id  \\\n",
       "0  1537401600000000000  0095c9b47fc950788bb709201f024c5338838a27c59c02...   \n",
       "1  1537401600000000000  0095c9b47fc950788bb709201f024c5338838a27c59c02...   \n",
       "2  1537401600000000000  0095c9b47fc950788bb709201f024c5338838a27c59c02...   \n",
       "\n",
       "  article_id     price  sales_channel_id  month_sin  month_cos   age  \\\n",
       "0  710390001  0.019051                 1  -0.866025       -0.5  20.0   \n",
       "1  633130019  0.016932                 1  -0.866025       -0.5  20.0   \n",
       "2  671057002  0.008458                 1  -0.866025       -0.5  20.0   \n",
       "\n",
       "  garment_group_name index_group_name  \n",
       "0             Skirts          Divided  \n",
       "1       Jersey Fancy          Divided  \n",
       "2       Jersey Fancy          Divided  "
      ]
     },
     "execution_count": 3,
     "metadata": {},
     "output_type": "execute_result"
    }
   ],
   "source": [
    "import mysql.connector as sql\n",
    "\n",
    "import pandas as pd\n",
    "\n",
    "host = 'ssm-develop.db.sinsang.market'\n",
    "port = 3306\n",
    "username = 'dealicious'\n",
    "password = 'tlstkd12!@'\n",
    "database_name = 'dealicious'\n",
    "\n",
    "db_connection = sql.connect(host=host, database=database_name, user=username, password=password)\n",
    "\n",
    "retrievals_df = pd.read_sql('SELECT * FROM rec_retrievals', con=db_connection)\n",
    "\n",
    "retrievals_df.head(3)"
   ]
  },
  {
   "cell_type": "code",
   "execution_count": 4,
   "metadata": {},
   "outputs": [],
   "source": [
    "from sklearn.model_selection import train_test_split\n",
    "\n",
    "train_df, test_df = train_test_split(retrievals_df, test_size=0.2, random_state=42)"
   ]
  },
  {
   "cell_type": "code",
   "execution_count": 5,
   "metadata": {},
   "outputs": [],
   "source": [
    "train_df[\"article_id\"] = train_df[\"article_id\"].astype(str)\n",
    "test_df[\"article_id\"] = test_df[\"article_id\"].astype(str)"
   ]
  },
  {
   "cell_type": "code",
   "execution_count": 6,
   "metadata": {},
   "outputs": [
    {
     "name": "stderr",
     "output_type": "stream",
     "text": [
      "/var/folders/fx/b8s33_bs1nx_2nnz6h7w64qm0000gn/T/ipykernel_61920/753176361.py:6: SettingWithCopyWarning: \n",
      "A value is trying to be set on a copy of a slice from a DataFrame\n",
      "\n",
      "See the caveats in the documentation: https://pandas.pydata.org/pandas-docs/stable/user_guide/indexing.html#returning-a-view-versus-a-copy\n",
      "  item_df.drop_duplicates(subset=\"article_id\", inplace=True)\n"
     ]
    }
   ],
   "source": [
    "input_signature = candidate_model.signatures[\"serving_default\"].structured_input_signature[-1]\n",
    "candidate_features = list(input_signature.keys())\n",
    "\n",
    "# Get list of unique candidate items.\n",
    "item_df = train_df[candidate_features]\n",
    "item_df.drop_duplicates(subset=\"article_id\", inplace=True)\n",
    "\n",
    "item_ds = tf.data.Dataset.from_tensor_slices(\n",
    "    {col: item_df[col] for col in item_df})\n"
   ]
  },
  {
   "cell_type": "markdown",
   "metadata": {},
   "source": [
    "#### 1-3. candidate embedding 계산하기"
   ]
  },
  {
   "cell_type": "code",
   "execution_count": 7,
   "metadata": {},
   "outputs": [],
   "source": [
    "# Compute embeddings for all candidate items.\n",
    "candidate_embeddings = item_ds.batch(448).map(\n",
    "    lambda x: (x[\"article_id\"], candidate_model(x)))"
   ]
  },
  {
   "cell_type": "markdown",
   "metadata": {},
   "source": [
    "### 2. vector db에 candidate embedding 인덱싱하기"
   ]
  },
  {
   "cell_type": "code",
   "execution_count": 8,
   "metadata": {},
   "outputs": [
    {
     "name": "stderr",
     "output_type": "stream",
     "text": [
      "/Users/jimin/study/two-tower/.venv/lib/python3.9/site-packages/weaviate/warnings.py:121: DeprecationWarning: Dep005: You are using weaviate-client version 3.26.2. The latest version is 4.5.7.\n",
      "            Please consider upgrading to the latest version. See https://weaviate.io/developers/weaviate/client-libraries/python for details.\n",
      "  warnings.warn(\n"
     ]
    }
   ],
   "source": [
    "import requests\n",
    "import json\n",
    "import weaviate\n",
    "\n",
    "# weaviate schdema name\n",
    "INDEX_NAME = 'ItemCandidate'\n",
    "weaviate_client = weaviate.Client(\"https://weaviate.dev.sinsang.market\")"
   ]
  },
  {
   "cell_type": "code",
   "execution_count": 25,
   "metadata": {},
   "outputs": [
    {
     "name": "stdout",
     "output_type": "stream",
     "text": [
      "['Article', 'Dealidocsall5', 'ItemCandidate']\n"
     ]
    },
    {
     "data": {
      "text/plain": [
       "{'data': {'Aggregate': {'ItemCandidate': [{'meta': {'count': 6487}}]}}}"
      ]
     },
     "execution_count": 25,
     "metadata": {},
     "output_type": "execute_result"
    }
   ],
   "source": [
    "# 스키마 목록\n",
    "response = weaviate_client.schema.get()\n",
    "classes = [c['class'] for c in response['classes']]\n",
    "print(classes)\n",
    "\n",
    "weaviate_client.query.aggregate('ItemCandidate').with_meta_count().do()"
   ]
  },
  {
   "cell_type": "code",
   "execution_count": 10,
   "metadata": {},
   "outputs": [],
   "source": [
    "# batch import embeddings\n",
    "def bulk_insert(item_id_list, embedding_list):\n",
    "    weaviate_client.batch.configure(batch_size=100)\n",
    "    with weaviate_client.batch as batch:\n",
    "        for item_id, embedding in zip(item_id_list, embedding_list):\n",
    "            properties = {\n",
    "                \"item_id\": int(item_id)\n",
    "            }\n",
    "            batch.add_data_object(properties, INDEX_NAME, vector=embedding.tolist())\n",
    "  "
   ]
  },
  {
   "cell_type": "code",
   "execution_count": 24,
   "metadata": {},
   "outputs": [],
   "source": [
    "for batch in candidate_embeddings:\n",
    "    item_id_list, embedding_list = batch\n",
    "    item_id_list = item_id_list.numpy().astype(int)\n",
    "    embedding_list = embedding_list.numpy()\n",
    "\n",
    "    bulk_insert(item_id_list, embedding_list)"
   ]
  },
  {
   "cell_type": "markdown",
   "metadata": {},
   "source": [
    "### 3. 샘플 쿼리"
   ]
  },
  {
   "cell_type": "code",
   "execution_count": 18,
   "metadata": {},
   "outputs": [],
   "source": [
    "import numpy as np\n",
    "\n",
    "emb_dim = 16\n",
    "embedding = np.random.rand(emb_dim)"
   ]
  },
  {
   "cell_type": "code",
   "execution_count": 32,
   "metadata": {},
   "outputs": [
    {
     "name": "stdout",
     "output_type": "stream",
     "text": [
      "{\n",
      "    \"data\": {\n",
      "        \"Get\": {\n",
      "            \"ItemCandidate\": [\n",
      "                {\n",
      "                    \"_additional\": {\n",
      "                        \"vector\": [\n",
      "                            -0.023482554,\n",
      "                            -0.37243342,\n",
      "                            0.25602636,\n",
      "                            -0.37349474,\n",
      "                            0.05387725,\n",
      "                            0.21127278,\n",
      "                            0.08824536,\n",
      "                            0.3604427,\n",
      "                            0.9581325,\n",
      "                            0.0064371377,\n",
      "                            -0.07189374,\n",
      "                            0.14129508,\n",
      "                            -0.41921556,\n",
      "                            -0.37611598,\n",
      "                            0.2706183,\n",
      "                            -0.78729665\n",
      "                        ]\n",
      "                    },\n",
      "                    \"item_id\": 617279006\n",
      "                },\n",
      "                {\n",
      "                    \"_additional\": {\n",
      "                        \"vector\": [\n",
      "                            -0.30328253,\n",
      "                            -0.5945356,\n",
      "                            0.44130185,\n",
      "                            -0.35776055,\n",
      "                            -0.015442878,\n",
      "                            0.37482935,\n",
      "                            0.06374109,\n",
      "                            0.5850679,\n",
      "                            0.94868815,\n",
      "                            -0.11330275,\n",
      "                            0.12982051,\n",
      "                            -0.0143198,\n",
      "                            -0.28628063,\n",
      "                            -0.15277946,\n",
      "                            0.17935744,\n",
      "                            -0.998528\n",
      "                        ]\n",
      "                    },\n",
      "                    \"item_id\": 498740011\n",
      "                },\n",
      "                {\n",
      "                    \"_additional\": {\n",
      "                        \"vector\": [\n",
      "                            -0.9043557,\n",
      "                            -0.6328523,\n",
      "                            0.79285944,\n",
      "                            -0.19634864,\n",
      "                            -0.19971925,\n",
      "                            0.099692285,\n",
      "                            -0.253744,\n",
      "                            0.38547057,\n",
      "                            1.1434524,\n",
      "                            0.12143478,\n",
      "                            -0.5593965,\n",
      "                            0.7272003,\n",
      "                            -0.2967685,\n",
      "                            -0.47831196,\n",
      "                            -0.36249998,\n",
      "                            -0.91636884\n",
      "                        ]\n",
      "                    },\n",
      "                    \"item_id\": 617279001\n",
      "                },\n",
      "                {\n",
      "                    \"_additional\": {\n",
      "                        \"vector\": [\n",
      "                            -0.9115117,\n",
      "                            -0.74331224,\n",
      "                            0.71747243,\n",
      "                            -0.37335926,\n",
      "                            -0.23268953,\n",
      "                            0.15969813,\n",
      "                            0.010035627,\n",
      "                            0.42440265,\n",
      "                            0.9652413,\n",
      "                            0.12464294,\n",
      "                            -0.2673455,\n",
      "                            0.68617886,\n",
      "                            -0.14853798,\n",
      "                            -0.47291064,\n",
      "                            -0.26187283,\n",
      "                            -0.87080276\n",
      "                        ]\n",
      "                    },\n",
      "                    \"item_id\": 506412005\n",
      "                },\n",
      "                {\n",
      "                    \"_additional\": {\n",
      "                        \"vector\": [\n",
      "                            -0.6135428,\n",
      "                            -0.8656622,\n",
      "                            0.73141277,\n",
      "                            -0.6488777,\n",
      "                            0.060276642,\n",
      "                            0.24180162,\n",
      "                            0.2109988,\n",
      "                            0.71256655,\n",
      "                            0.9984163,\n",
      "                            0.16739687,\n",
      "                            0.05792655,\n",
      "                            0.04861381,\n",
      "                            -0.27769774,\n",
      "                            -0.22408521,\n",
      "                            0.04701323,\n",
      "                            -1.122927\n",
      "                        ]\n",
      "                    },\n",
      "                    \"item_id\": 498620011\n",
      "                },\n",
      "                {\n",
      "                    \"_additional\": {\n",
      "                        \"vector\": [\n",
      "                            -0.39447242,\n",
      "                            0.5099251,\n",
      "                            0.5923147,\n",
      "                            -0.069359206,\n",
      "                            -0.65589,\n",
      "                            0.48796198,\n",
      "                            -0.39499575,\n",
      "                            0.19840509,\n",
      "                            0.7460866,\n",
      "                            -0.023422942,\n",
      "                            -0.31009096,\n",
      "                            -0.11633162,\n",
      "                            -0.931083,\n",
      "                            -0.5918252,\n",
      "                            -0.3004504,\n",
      "                            -0.4024705\n",
      "                        ]\n",
      "                    },\n",
      "                    \"item_id\": 675266001\n",
      "                },\n",
      "                {\n",
      "                    \"_additional\": {\n",
      "                        \"vector\": [\n",
      "                            -0.9384149,\n",
      "                            -0.96449316,\n",
      "                            0.77660704,\n",
      "                            -0.3968851,\n",
      "                            -0.095885605,\n",
      "                            -0.018195987,\n",
      "                            0.03169053,\n",
      "                            0.52140576,\n",
      "                            0.9711858,\n",
      "                            0.17715254,\n",
      "                            -0.42024446,\n",
      "                            0.9135689,\n",
      "                            -0.12301619,\n",
      "                            -0.5720173,\n",
      "                            -0.23036079,\n",
      "                            -0.87372184\n",
      "                        ]\n",
      "                    },\n",
      "                    \"item_id\": 645023001\n",
      "                },\n",
      "                {\n",
      "                    \"_additional\": {\n",
      "                        \"vector\": [\n",
      "                            -0.7447132,\n",
      "                            -0.661648,\n",
      "                            0.5382303,\n",
      "                            -0.30696085,\n",
      "                            -0.09256855,\n",
      "                            0.24076569,\n",
      "                            0.042369798,\n",
      "                            0.18908662,\n",
      "                            0.75723004,\n",
      "                            0.086155206,\n",
      "                            -0.26316577,\n",
      "                            0.6938344,\n",
      "                            -0.037304536,\n",
      "                            -0.3623507,\n",
      "                            -0.216058,\n",
      "                            -0.7149236\n",
      "                        ]\n",
      "                    },\n",
      "                    \"item_id\": 623860001\n",
      "                },\n",
      "                {\n",
      "                    \"_additional\": {\n",
      "                        \"vector\": [\n",
      "                            0.97278863,\n",
      "                            -1.6701963,\n",
      "                            0.5227032,\n",
      "                            -0.20733364,\n",
      "                            -0.23001787,\n",
      "                            -0.04835999,\n",
      "                            0.83690804,\n",
      "                            0.9492702,\n",
      "                            0.057199933,\n",
      "                            -1.279531,\n",
      "                            1.0173112,\n",
      "                            0.7653372,\n",
      "                            1.1348065,\n",
      "                            -0.17136711,\n",
      "                            1.4883018,\n",
      "                            -0.8771627\n",
      "                        ]\n",
      "                    },\n",
      "                    \"item_id\": 660836001\n",
      "                },\n",
      "                {\n",
      "                    \"_additional\": {\n",
      "                        \"vector\": [\n",
      "                            -0.8881358,\n",
      "                            -0.9115212,\n",
      "                            0.62456536,\n",
      "                            -0.37049013,\n",
      "                            -0.055149406,\n",
      "                            0.24242532,\n",
      "                            0.14272521,\n",
      "                            0.42708486,\n",
      "                            0.75602067,\n",
      "                            0.082736164,\n",
      "                            -0.21023472,\n",
      "                            0.74419564,\n",
      "                            0.059495255,\n",
      "                            -0.367918,\n",
      "                            -0.16639896,\n",
      "                            -0.84716094\n",
      "                        ]\n",
      "                    },\n",
      "                    \"item_id\": 506410004\n",
      "                }\n",
      "            ]\n",
      "        }\n",
      "    }\n",
      "}\n"
     ]
    }
   ],
   "source": [
    "k = 10\n",
    "nearVector = {\n",
    "    \"vector\": embedding\n",
    "}\n",
    "result = weaviate_client.query.get(\n",
    "        INDEX_NAME, [\"item_id\"]\n",
    "    ).with_near_vector(\n",
    "        nearVector\n",
    "    ).with_limit(k).with_additional(\"vector\").do()\n",
    "\n",
    "\n",
    "print(json.dumps(result, indent=4))"
   ]
  },
  {
   "cell_type": "code",
   "execution_count": 22,
   "metadata": {},
   "outputs": [],
   "source": [
    "# 스키마 삭제\n",
    "# weaviate_client.schema.delete_class(INDEX_NAME)"
   ]
  }
 ],
 "metadata": {
  "kernelspec": {
   "display_name": ".venv",
   "language": "python",
   "name": "python3"
  },
  "language_info": {
   "codemirror_mode": {
    "name": "ipython",
    "version": 3
   },
   "file_extension": ".py",
   "mimetype": "text/x-python",
   "name": "python",
   "nbconvert_exporter": "python",
   "pygments_lexer": "ipython3",
   "version": "3.9.19"
  }
 },
 "nbformat": 4,
 "nbformat_minor": 2
}
