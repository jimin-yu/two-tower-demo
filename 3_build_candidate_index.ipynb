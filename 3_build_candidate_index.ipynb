{
 "cells": [
  {
   "cell_type": "markdown",
   "metadata": {},
   "source": [
    "## Candidate Embedding 구하고 VectorDB에 인덱싱하기"
   ]
  },
  {
   "cell_type": "markdown",
   "metadata": {},
   "source": [
    "### 1. candidate_model 가지고 item feature 를 candidate embedding으로 변환하기"
   ]
  },
  {
   "cell_type": "markdown",
   "metadata": {},
   "source": [
    "#### 1-1. candidate_model 로드"
   ]
  },
  {
   "cell_type": "code",
   "execution_count": 29,
   "metadata": {},
   "outputs": [],
   "source": [
    "import boto3\n",
    "\n",
    "AWS_PROFILE = 'default'\n",
    "BUCKET_NAME = 'jimin-model'\n",
    "session = boto3.Session(profile_name=AWS_PROFILE)\n",
    "s3_client = session.client('s3')"
   ]
  },
  {
   "cell_type": "code",
   "execution_count": 30,
   "metadata": {},
   "outputs": [],
   "source": [
    "from utils.load_model import LoadModel\n",
    "import tensorflow as tf\n",
    "\n",
    "load_model = LoadModel(s3_client, BUCKET_NAME)\n",
    "candidate_model = load_model.call(\"candidate_model/1\")"
   ]
  },
  {
   "cell_type": "markdown",
   "metadata": {},
   "source": [
    "#### 1-2. feature 테이블에서 가져온 데이터 가공해서 item dateset 준비"
   ]
  },
  {
   "cell_type": "code",
   "execution_count": 31,
   "metadata": {},
   "outputs": [
    {
     "name": "stderr",
     "output_type": "stream",
     "text": [
      "/var/folders/fx/b8s33_bs1nx_2nnz6h7w64qm0000gn/T/ipykernel_16838/1062528239.py:13: UserWarning: pandas only supports SQLAlchemy connectable (engine/connection) or database string URI or sqlite3 DBAPI2 connection. Other DBAPI2 objects are not tested. Please consider using SQLAlchemy.\n",
      "  retrievals_df = pd.read_sql('SELECT * FROM rec_retrievals', con=db_connection)\n"
     ]
    },
    {
     "data": {
      "text/html": [
       "<div>\n",
       "<style scoped>\n",
       "    .dataframe tbody tr th:only-of-type {\n",
       "        vertical-align: middle;\n",
       "    }\n",
       "\n",
       "    .dataframe tbody tr th {\n",
       "        vertical-align: top;\n",
       "    }\n",
       "\n",
       "    .dataframe thead th {\n",
       "        text-align: right;\n",
       "    }\n",
       "</style>\n",
       "<table border=\"1\" class=\"dataframe\">\n",
       "  <thead>\n",
       "    <tr style=\"text-align: right;\">\n",
       "      <th></th>\n",
       "      <th>t_dat</th>\n",
       "      <th>customer_id</th>\n",
       "      <th>article_id</th>\n",
       "      <th>price</th>\n",
       "      <th>sales_channel_id</th>\n",
       "      <th>month_sin</th>\n",
       "      <th>month_cos</th>\n",
       "      <th>age</th>\n",
       "      <th>garment_group_name</th>\n",
       "      <th>index_group_name</th>\n",
       "    </tr>\n",
       "  </thead>\n",
       "  <tbody>\n",
       "    <tr>\n",
       "      <th>0</th>\n",
       "      <td>1537401600000000000</td>\n",
       "      <td>0095c9b47fc950788bb709201f024c5338838a27c59c02...</td>\n",
       "      <td>710390001</td>\n",
       "      <td>0.019051</td>\n",
       "      <td>1</td>\n",
       "      <td>-0.866025</td>\n",
       "      <td>-0.5</td>\n",
       "      <td>20.0</td>\n",
       "      <td>Skirts</td>\n",
       "      <td>Divided</td>\n",
       "    </tr>\n",
       "    <tr>\n",
       "      <th>1</th>\n",
       "      <td>1537401600000000000</td>\n",
       "      <td>0095c9b47fc950788bb709201f024c5338838a27c59c02...</td>\n",
       "      <td>633130019</td>\n",
       "      <td>0.016932</td>\n",
       "      <td>1</td>\n",
       "      <td>-0.866025</td>\n",
       "      <td>-0.5</td>\n",
       "      <td>20.0</td>\n",
       "      <td>Jersey Fancy</td>\n",
       "      <td>Divided</td>\n",
       "    </tr>\n",
       "    <tr>\n",
       "      <th>2</th>\n",
       "      <td>1537401600000000000</td>\n",
       "      <td>0095c9b47fc950788bb709201f024c5338838a27c59c02...</td>\n",
       "      <td>671057002</td>\n",
       "      <td>0.008458</td>\n",
       "      <td>1</td>\n",
       "      <td>-0.866025</td>\n",
       "      <td>-0.5</td>\n",
       "      <td>20.0</td>\n",
       "      <td>Jersey Fancy</td>\n",
       "      <td>Divided</td>\n",
       "    </tr>\n",
       "  </tbody>\n",
       "</table>\n",
       "</div>"
      ],
      "text/plain": [
       "                 t_dat                                        customer_id  \\\n",
       "0  1537401600000000000  0095c9b47fc950788bb709201f024c5338838a27c59c02...   \n",
       "1  1537401600000000000  0095c9b47fc950788bb709201f024c5338838a27c59c02...   \n",
       "2  1537401600000000000  0095c9b47fc950788bb709201f024c5338838a27c59c02...   \n",
       "\n",
       "  article_id     price  sales_channel_id  month_sin  month_cos   age  \\\n",
       "0  710390001  0.019051                 1  -0.866025       -0.5  20.0   \n",
       "1  633130019  0.016932                 1  -0.866025       -0.5  20.0   \n",
       "2  671057002  0.008458                 1  -0.866025       -0.5  20.0   \n",
       "\n",
       "  garment_group_name index_group_name  \n",
       "0             Skirts          Divided  \n",
       "1       Jersey Fancy          Divided  \n",
       "2       Jersey Fancy          Divided  "
      ]
     },
     "execution_count": 31,
     "metadata": {},
     "output_type": "execute_result"
    }
   ],
   "source": [
    "import mysql.connector as sql\n",
    "\n",
    "import pandas as pd\n",
    "\n",
    "host = 'ssm-develop.db.sinsang.market'\n",
    "port = 3306\n",
    "username = 'dealicious'\n",
    "password = 'tlstkd12!@'\n",
    "database_name = 'dealicious'\n",
    "\n",
    "db_connection = sql.connect(host=host, database=database_name, user=username, password=password)\n",
    "\n",
    "retrievals_df = pd.read_sql('SELECT * FROM rec_retrievals', con=db_connection)\n",
    "\n",
    "retrievals_df.head(3)"
   ]
  },
  {
   "cell_type": "code",
   "execution_count": 32,
   "metadata": {},
   "outputs": [],
   "source": [
    "from sklearn.model_selection import train_test_split\n",
    "\n",
    "train_df, test_df = train_test_split(retrievals_df, test_size=0.2, random_state=42)"
   ]
  },
  {
   "cell_type": "code",
   "execution_count": 33,
   "metadata": {},
   "outputs": [],
   "source": [
    "train_df[\"article_id\"] = train_df[\"article_id\"].astype(str)\n",
    "test_df[\"article_id\"] = test_df[\"article_id\"].astype(str)"
   ]
  },
  {
   "cell_type": "code",
   "execution_count": 34,
   "metadata": {},
   "outputs": [
    {
     "name": "stderr",
     "output_type": "stream",
     "text": [
      "/var/folders/fx/b8s33_bs1nx_2nnz6h7w64qm0000gn/T/ipykernel_16838/753176361.py:6: SettingWithCopyWarning: \n",
      "A value is trying to be set on a copy of a slice from a DataFrame\n",
      "\n",
      "See the caveats in the documentation: https://pandas.pydata.org/pandas-docs/stable/user_guide/indexing.html#returning-a-view-versus-a-copy\n",
      "  item_df.drop_duplicates(subset=\"article_id\", inplace=True)\n"
     ]
    }
   ],
   "source": [
    "input_signature = candidate_model.signatures[\"serving_default\"].structured_input_signature[-1]\n",
    "candidate_features = list(input_signature.keys())\n",
    "\n",
    "# Get list of unique candidate items.\n",
    "item_df = train_df[candidate_features]\n",
    "item_df.drop_duplicates(subset=\"article_id\", inplace=True)\n",
    "\n",
    "item_ds = tf.data.Dataset.from_tensor_slices(\n",
    "    {col: item_df[col] for col in item_df})\n"
   ]
  },
  {
   "cell_type": "markdown",
   "metadata": {},
   "source": [
    "#### 1-3. candidate embedding 계산하기"
   ]
  },
  {
   "cell_type": "code",
   "execution_count": 35,
   "metadata": {},
   "outputs": [],
   "source": [
    "# Compute embeddings for all candidate items.\n",
    "candidate_embeddings = item_ds.batch(448).map(\n",
    "    lambda x: (x[\"article_id\"], candidate_model(x)))"
   ]
  },
  {
   "cell_type": "markdown",
   "metadata": {},
   "source": [
    "### 2. vector db에 candidate embedding 인덱싱하기"
   ]
  },
  {
   "cell_type": "code",
   "execution_count": 52,
   "metadata": {},
   "outputs": [],
   "source": [
    "from pymilvus import MilvusClient, DataType\n",
    "client = MilvusClient(uri='http://milvus.dev.sinsang.market:19530')\n",
    "\n",
    "schema = MilvusClient.create_schema(\n",
    "    auto_id=False,\n",
    "    enable_dynamic_field=True,\n",
    ")\n",
    "schema.add_field(field_name=\"id\", datatype=DataType.INT64, is_primary=True)\n",
    "schema.add_field(field_name=\"vector\", datatype=DataType.FLOAT_VECTOR, dim=16)\n",
    "index_params = client.prepare_index_params()\n",
    "index_params.add_index(\n",
    "    field_name=\"vector\",\n",
    "    index_name=\"candidate_index\", \n",
    "    index_type=\"HNSW\",\n",
    "    metric_type=\"IP\",\n",
    "    params={\"M\":48, \"efConstruction\": 256}\n",
    ")\n",
    "client.create_collection(collection_name=\"rec_candidate\", schema=schema, index_params=index_params)"
   ]
  },
  {
   "cell_type": "code",
   "execution_count": 53,
   "metadata": {},
   "outputs": [],
   "source": [
    "from pymilvus import Collection\n",
    "\n",
    "data = []\n",
    "for batch in candidate_embeddings:\n",
    "    item_id_list, embedding_list = batch\n",
    "    item_id_list = item_id_list.numpy().astype(int)\n",
    "    embedding_list = embedding_list.numpy()\n",
    "\n",
    "    for item_id, embedding in zip(item_id_list, embedding_list):\n",
    "        data.append({\n",
    "            \"id\": item_id,\n",
    "            \"vector\": embedding\n",
    "        })\n",
    "    \n",
    "    client.insert(collection_name=\"rec_candidate\", data=data)"
   ]
  },
  {
   "cell_type": "code",
   "execution_count": null,
   "metadata": {},
   "outputs": [],
   "source": [
    "# import requests\n",
    "# import json\n",
    "# import weaviate\n",
    "\n",
    "# # weaviate schdema name\n",
    "# INDEX_NAME = 'ItemCandidate'\n",
    "# weaviate_client = weaviate.Client(\"https://weaviate.dev.sinsang.market\")"
   ]
  },
  {
   "cell_type": "code",
   "execution_count": 25,
   "metadata": {},
   "outputs": [
    {
     "name": "stdout",
     "output_type": "stream",
     "text": [
      "['Article', 'Dealidocsall5', 'ItemCandidate']\n"
     ]
    },
    {
     "data": {
      "text/plain": [
       "{'data': {'Aggregate': {'ItemCandidate': [{'meta': {'count': 6487}}]}}}"
      ]
     },
     "execution_count": 25,
     "metadata": {},
     "output_type": "execute_result"
    }
   ],
   "source": [
    "# # 스키마 목록\n",
    "# response = weaviate_client.schema.get()\n",
    "# classes = [c['class'] for c in response['classes']]\n",
    "# print(classes)\n",
    "\n",
    "# weaviate_client.query.aggregate('ItemCandidate').with_meta_count().do()"
   ]
  },
  {
   "cell_type": "code",
   "execution_count": 10,
   "metadata": {},
   "outputs": [],
   "source": [
    "# # batch import embeddings\n",
    "# def bulk_insert(item_id_list, embedding_list):\n",
    "#     weaviate_client.batch.configure(batch_size=100)\n",
    "#     with weaviate_client.batch as batch:\n",
    "#         for item_id, embedding in zip(item_id_list, embedding_list):\n",
    "#             properties = {\n",
    "#                 \"item_id\": int(item_id)\n",
    "#             }\n",
    "#             batch.add_data_object(properties, INDEX_NAME, vector=embedding.tolist())\n",
    "  "
   ]
  },
  {
   "cell_type": "code",
   "execution_count": 24,
   "metadata": {},
   "outputs": [],
   "source": [
    "# for batch in candidate_embeddings:\n",
    "#     item_id_list, embedding_list = batch\n",
    "#     item_id_list = item_id_list.numpy().astype(int)\n",
    "#     embedding_list = embedding_list.numpy()\n",
    "\n",
    "#     bulk_insert(item_id_list, embedding_list)"
   ]
  },
  {
   "cell_type": "markdown",
   "metadata": {},
   "source": [
    "### 3. 샘플 쿼리"
   ]
  },
  {
   "cell_type": "code",
   "execution_count": 2,
   "metadata": {},
   "outputs": [],
   "source": [
    "import numpy as np\n",
    "\n",
    "emb_dim = 16\n",
    "embedding = np.random.rand(emb_dim)"
   ]
  },
  {
   "cell_type": "code",
   "execution_count": 69,
   "metadata": {},
   "outputs": [
    {
     "name": "stdout",
     "output_type": "stream",
     "text": [
      "[\n",
      "  [\n",
      "    {\n",
      "      \"id\": 636809002,\n",
      "      \"distance\": 22.911287307739258,\n",
      "      \"entity\": {\n",
      "        \"id\": 636809002\n",
      "      }\n",
      "    },\n",
      "    {\n",
      "      \"id\": 501619009,\n",
      "      \"distance\": 22.480873107910156,\n",
      "      \"entity\": {\n",
      "        \"id\": 501619009\n",
      "      }\n",
      "    },\n",
      "    {\n",
      "      \"id\": 634037001,\n",
      "      \"distance\": 22.37549591064453,\n",
      "      \"entity\": {\n",
      "        \"id\": 634037001\n",
      "      }\n",
      "    }\n",
      "  ]\n",
      "]\n",
      "[636809002, 501619009, 634037001]\n"
     ]
    }
   ],
   "source": [
    "res = client.search(\n",
    "  collection_name=\"rec_candidate\", \n",
    "  data=[embedding], \n",
    "  ann_fields=\"vector\",\n",
    "  limit=20,\n",
    "  output_fields=[\"id\"]\n",
    "  )\n",
    "print(json.dumps(res, indent=2))\n",
    "print([item['id'] for item in res[0]])"
   ]
  },
  {
   "cell_type": "code",
   "execution_count": null,
   "metadata": {},
   "outputs": [],
   "source": [
    "# k = 10\n",
    "# nearVector = {\n",
    "#     \"vector\": embedding\n",
    "# }\n",
    "# result = weaviate_client.query.get(\n",
    "#         INDEX_NAME, [\"item_id\"]\n",
    "#     ).with_near_vector(\n",
    "#         nearVector\n",
    "#     ).with_limit(k).with_additional(\"vector\").do()\n",
    "\n",
    "\n",
    "# print(json.dumps(result, indent=4))"
   ]
  },
  {
   "cell_type": "code",
   "execution_count": 22,
   "metadata": {},
   "outputs": [],
   "source": [
    "# 스키마 삭제\n",
    "# weaviate_client.schema.delete_class(INDEX_NAME)"
   ]
  }
 ],
 "metadata": {
  "kernelspec": {
   "display_name": ".venv",
   "language": "python",
   "name": "python3"
  },
  "language_info": {
   "codemirror_mode": {
    "name": "ipython",
    "version": 3
   },
   "file_extension": ".py",
   "mimetype": "text/x-python",
   "name": "python",
   "nbconvert_exporter": "python",
   "pygments_lexer": "ipython3",
   "version": "3.9.19"
  }
 },
 "nbformat": 4,
 "nbformat_minor": 2
}
